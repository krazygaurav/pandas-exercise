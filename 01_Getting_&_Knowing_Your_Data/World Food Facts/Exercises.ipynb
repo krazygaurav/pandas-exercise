{
 "cells": [
  {
   "cell_type": "markdown",
   "metadata": {},
   "source": [
    "# Exercise 1"
   ]
  },
  {
   "cell_type": "markdown",
   "metadata": {},
   "source": [
    "### Step 1. Go to [Kaggle]( https://www.kaggle.com/openfoodfacts/world-food-facts)"
   ]
  },
  {
   "cell_type": "markdown",
   "metadata": {},
   "source": [
    "### Step 2. Download the dataset to your computer and unzip it."
   ]
  },
  {
   "cell_type": "markdown",
   "metadata": {},
   "source": [
    "### Step 3. Use the csv file and assign it to a dataframe called food"
   ]
  },
  {
   "cell_type": "code",
   "execution_count": 1,
   "metadata": {
    "collapsed": true
   },
   "outputs": [],
   "source": [
    "import pandas as pd"
   ]
  },
  {
   "cell_type": "code",
   "execution_count": 2,
   "metadata": {},
   "outputs": [
    {
     "ename": "FileNotFoundError",
     "evalue": "File b'../../../en.openfoodfacts.org.products.tsv' does not exist",
     "output_type": "error",
     "traceback": [
      "\u001b[1;31m---------------------------------------------------------------------------\u001b[0m",
      "\u001b[1;31mFileNotFoundError\u001b[0m                         Traceback (most recent call last)",
      "\u001b[1;32m<ipython-input-2-1741e3877a8b>\u001b[0m in \u001b[0;36m<module>\u001b[1;34m()\u001b[0m\n\u001b[1;32m----> 1\u001b[1;33m \u001b[0mfood\u001b[0m \u001b[1;33m=\u001b[0m \u001b[0mpd\u001b[0m\u001b[1;33m.\u001b[0m\u001b[0mread_csv\u001b[0m\u001b[1;33m(\u001b[0m\u001b[1;34m\"../../../en.openfoodfacts.org.products.tsv\"\u001b[0m\u001b[1;33m,\u001b[0m \u001b[0msep\u001b[0m\u001b[1;33m=\u001b[0m\u001b[1;34m\"\\t\"\u001b[0m\u001b[1;33m,\u001b[0m \u001b[0mdtype\u001b[0m\u001b[1;33m=\u001b[0m\u001b[0mobject\u001b[0m\u001b[1;33m)\u001b[0m\u001b[1;33m\u001b[0m\u001b[0m\n\u001b[0m\u001b[0;32m      2\u001b[0m \u001b[1;31m#with open(\"../../../en.openfoodfacts.org.products.tsv\") as myfile:\u001b[0m\u001b[1;33m\u001b[0m\u001b[1;33m\u001b[0m\u001b[0m\n\u001b[0;32m      3\u001b[0m \u001b[1;31m#    head = [next(myfile) for x in range(10)]\u001b[0m\u001b[1;33m\u001b[0m\u001b[1;33m\u001b[0m\u001b[0m\n\u001b[0;32m      4\u001b[0m \u001b[1;31m#print(head)\u001b[0m\u001b[1;33m\u001b[0m\u001b[1;33m\u001b[0m\u001b[0m\n",
      "\u001b[1;32mC:\\Users\\gauravsinghal\\AppData\\Local\\Continuum\\Anaconda3\\lib\\site-packages\\pandas\\io\\parsers.py\u001b[0m in \u001b[0;36mparser_f\u001b[1;34m(filepath_or_buffer, sep, delimiter, header, names, index_col, usecols, squeeze, prefix, mangle_dupe_cols, dtype, engine, converters, true_values, false_values, skipinitialspace, skiprows, nrows, na_values, keep_default_na, na_filter, verbose, skip_blank_lines, parse_dates, infer_datetime_format, keep_date_col, date_parser, dayfirst, iterator, chunksize, compression, thousands, decimal, lineterminator, quotechar, quoting, escapechar, comment, encoding, dialect, tupleize_cols, error_bad_lines, warn_bad_lines, skipfooter, skip_footer, doublequote, delim_whitespace, as_recarray, compact_ints, use_unsigned, low_memory, buffer_lines, memory_map, float_precision)\u001b[0m\n\u001b[0;32m    653\u001b[0m                     skip_blank_lines=skip_blank_lines)\n\u001b[0;32m    654\u001b[0m \u001b[1;33m\u001b[0m\u001b[0m\n\u001b[1;32m--> 655\u001b[1;33m         \u001b[1;32mreturn\u001b[0m \u001b[0m_read\u001b[0m\u001b[1;33m(\u001b[0m\u001b[0mfilepath_or_buffer\u001b[0m\u001b[1;33m,\u001b[0m \u001b[0mkwds\u001b[0m\u001b[1;33m)\u001b[0m\u001b[1;33m\u001b[0m\u001b[0m\n\u001b[0m\u001b[0;32m    656\u001b[0m \u001b[1;33m\u001b[0m\u001b[0m\n\u001b[0;32m    657\u001b[0m     \u001b[0mparser_f\u001b[0m\u001b[1;33m.\u001b[0m\u001b[0m__name__\u001b[0m \u001b[1;33m=\u001b[0m \u001b[0mname\u001b[0m\u001b[1;33m\u001b[0m\u001b[0m\n",
      "\u001b[1;32mC:\\Users\\gauravsinghal\\AppData\\Local\\Continuum\\Anaconda3\\lib\\site-packages\\pandas\\io\\parsers.py\u001b[0m in \u001b[0;36m_read\u001b[1;34m(filepath_or_buffer, kwds)\u001b[0m\n\u001b[0;32m    403\u001b[0m \u001b[1;33m\u001b[0m\u001b[0m\n\u001b[0;32m    404\u001b[0m     \u001b[1;31m# Create the parser.\u001b[0m\u001b[1;33m\u001b[0m\u001b[1;33m\u001b[0m\u001b[0m\n\u001b[1;32m--> 405\u001b[1;33m     \u001b[0mparser\u001b[0m \u001b[1;33m=\u001b[0m \u001b[0mTextFileReader\u001b[0m\u001b[1;33m(\u001b[0m\u001b[0mfilepath_or_buffer\u001b[0m\u001b[1;33m,\u001b[0m \u001b[1;33m**\u001b[0m\u001b[0mkwds\u001b[0m\u001b[1;33m)\u001b[0m\u001b[1;33m\u001b[0m\u001b[0m\n\u001b[0m\u001b[0;32m    406\u001b[0m \u001b[1;33m\u001b[0m\u001b[0m\n\u001b[0;32m    407\u001b[0m     \u001b[1;32mif\u001b[0m \u001b[0mchunksize\u001b[0m \u001b[1;32mor\u001b[0m \u001b[0miterator\u001b[0m\u001b[1;33m:\u001b[0m\u001b[1;33m\u001b[0m\u001b[0m\n",
      "\u001b[1;32mC:\\Users\\gauravsinghal\\AppData\\Local\\Continuum\\Anaconda3\\lib\\site-packages\\pandas\\io\\parsers.py\u001b[0m in \u001b[0;36m__init__\u001b[1;34m(self, f, engine, **kwds)\u001b[0m\n\u001b[0;32m    760\u001b[0m             \u001b[0mself\u001b[0m\u001b[1;33m.\u001b[0m\u001b[0moptions\u001b[0m\u001b[1;33m[\u001b[0m\u001b[1;34m'has_index_names'\u001b[0m\u001b[1;33m]\u001b[0m \u001b[1;33m=\u001b[0m \u001b[0mkwds\u001b[0m\u001b[1;33m[\u001b[0m\u001b[1;34m'has_index_names'\u001b[0m\u001b[1;33m]\u001b[0m\u001b[1;33m\u001b[0m\u001b[0m\n\u001b[0;32m    761\u001b[0m \u001b[1;33m\u001b[0m\u001b[0m\n\u001b[1;32m--> 762\u001b[1;33m         \u001b[0mself\u001b[0m\u001b[1;33m.\u001b[0m\u001b[0m_make_engine\u001b[0m\u001b[1;33m(\u001b[0m\u001b[0mself\u001b[0m\u001b[1;33m.\u001b[0m\u001b[0mengine\u001b[0m\u001b[1;33m)\u001b[0m\u001b[1;33m\u001b[0m\u001b[0m\n\u001b[0m\u001b[0;32m    763\u001b[0m \u001b[1;33m\u001b[0m\u001b[0m\n\u001b[0;32m    764\u001b[0m     \u001b[1;32mdef\u001b[0m \u001b[0mclose\u001b[0m\u001b[1;33m(\u001b[0m\u001b[0mself\u001b[0m\u001b[1;33m)\u001b[0m\u001b[1;33m:\u001b[0m\u001b[1;33m\u001b[0m\u001b[0m\n",
      "\u001b[1;32mC:\\Users\\gauravsinghal\\AppData\\Local\\Continuum\\Anaconda3\\lib\\site-packages\\pandas\\io\\parsers.py\u001b[0m in \u001b[0;36m_make_engine\u001b[1;34m(self, engine)\u001b[0m\n\u001b[0;32m    964\u001b[0m     \u001b[1;32mdef\u001b[0m \u001b[0m_make_engine\u001b[0m\u001b[1;33m(\u001b[0m\u001b[0mself\u001b[0m\u001b[1;33m,\u001b[0m \u001b[0mengine\u001b[0m\u001b[1;33m=\u001b[0m\u001b[1;34m'c'\u001b[0m\u001b[1;33m)\u001b[0m\u001b[1;33m:\u001b[0m\u001b[1;33m\u001b[0m\u001b[0m\n\u001b[0;32m    965\u001b[0m         \u001b[1;32mif\u001b[0m \u001b[0mengine\u001b[0m \u001b[1;33m==\u001b[0m \u001b[1;34m'c'\u001b[0m\u001b[1;33m:\u001b[0m\u001b[1;33m\u001b[0m\u001b[0m\n\u001b[1;32m--> 966\u001b[1;33m             \u001b[0mself\u001b[0m\u001b[1;33m.\u001b[0m\u001b[0m_engine\u001b[0m \u001b[1;33m=\u001b[0m \u001b[0mCParserWrapper\u001b[0m\u001b[1;33m(\u001b[0m\u001b[0mself\u001b[0m\u001b[1;33m.\u001b[0m\u001b[0mf\u001b[0m\u001b[1;33m,\u001b[0m \u001b[1;33m**\u001b[0m\u001b[0mself\u001b[0m\u001b[1;33m.\u001b[0m\u001b[0moptions\u001b[0m\u001b[1;33m)\u001b[0m\u001b[1;33m\u001b[0m\u001b[0m\n\u001b[0m\u001b[0;32m    967\u001b[0m         \u001b[1;32melse\u001b[0m\u001b[1;33m:\u001b[0m\u001b[1;33m\u001b[0m\u001b[0m\n\u001b[0;32m    968\u001b[0m             \u001b[1;32mif\u001b[0m \u001b[0mengine\u001b[0m \u001b[1;33m==\u001b[0m \u001b[1;34m'python'\u001b[0m\u001b[1;33m:\u001b[0m\u001b[1;33m\u001b[0m\u001b[0m\n",
      "\u001b[1;32mC:\\Users\\gauravsinghal\\AppData\\Local\\Continuum\\Anaconda3\\lib\\site-packages\\pandas\\io\\parsers.py\u001b[0m in \u001b[0;36m__init__\u001b[1;34m(self, src, **kwds)\u001b[0m\n\u001b[0;32m   1580\u001b[0m         \u001b[0mkwds\u001b[0m\u001b[1;33m[\u001b[0m\u001b[1;34m'allow_leading_cols'\u001b[0m\u001b[1;33m]\u001b[0m \u001b[1;33m=\u001b[0m \u001b[0mself\u001b[0m\u001b[1;33m.\u001b[0m\u001b[0mindex_col\u001b[0m \u001b[1;32mis\u001b[0m \u001b[1;32mnot\u001b[0m \u001b[1;32mFalse\u001b[0m\u001b[1;33m\u001b[0m\u001b[0m\n\u001b[0;32m   1581\u001b[0m \u001b[1;33m\u001b[0m\u001b[0m\n\u001b[1;32m-> 1582\u001b[1;33m         \u001b[0mself\u001b[0m\u001b[1;33m.\u001b[0m\u001b[0m_reader\u001b[0m \u001b[1;33m=\u001b[0m \u001b[0mparsers\u001b[0m\u001b[1;33m.\u001b[0m\u001b[0mTextReader\u001b[0m\u001b[1;33m(\u001b[0m\u001b[0msrc\u001b[0m\u001b[1;33m,\u001b[0m \u001b[1;33m**\u001b[0m\u001b[0mkwds\u001b[0m\u001b[1;33m)\u001b[0m\u001b[1;33m\u001b[0m\u001b[0m\n\u001b[0m\u001b[0;32m   1583\u001b[0m \u001b[1;33m\u001b[0m\u001b[0m\n\u001b[0;32m   1584\u001b[0m         \u001b[1;31m# XXX\u001b[0m\u001b[1;33m\u001b[0m\u001b[1;33m\u001b[0m\u001b[0m\n",
      "\u001b[1;32mpandas\\_libs\\parsers.pyx\u001b[0m in \u001b[0;36mpandas._libs.parsers.TextReader.__cinit__ (pandas\\_libs\\parsers.c:4209)\u001b[1;34m()\u001b[0m\n",
      "\u001b[1;32mpandas\\_libs\\parsers.pyx\u001b[0m in \u001b[0;36mpandas._libs.parsers.TextReader._setup_parser_source (pandas\\_libs\\parsers.c:8873)\u001b[1;34m()\u001b[0m\n",
      "\u001b[1;31mFileNotFoundError\u001b[0m: File b'../../../en.openfoodfacts.org.products.tsv' does not exist"
     ]
    }
   ],
   "source": [
    "food = pd.read_csv(\"../../../en.openfoodfacts.org.products.tsv\", sep=\"\\t\", dtype=object)\n",
    "#with open(\"../../../en.openfoodfacts.org.products.tsv\") as myfile:\n",
    "#    head = [next(myfile) for x in range(10)]\n",
    "#print(head)"
   ]
  },
  {
   "cell_type": "code",
   "execution_count": 16,
   "metadata": {},
   "outputs": [
    {
     "name": "stdout",
     "output_type": "stream",
     "text": [
      "['code\\turl\\tcreator\\tcreated_t\\tcreated_datetime\\tlast_modified_t\\tlast_modified_datetime\\tproduct_name\\tgeneric_name\\tquantity\\tpackaging\\tpackaging_tags\\tbrands\\tbrands_tags\\tcategories\\tcategories_tags\\tcategories_en\\torigins\\torigins_tags\\tmanufacturing_places\\tmanufacturing_places_tags\\tlabels\\tlabels_tags\\tlabels_en\\temb_codes\\temb_codes_tags\\tfirst_packaging_code_geo\\tcities\\tcities_tags\\tpurchase_places\\tstores\\tcountries\\tcountries_tags\\tcountries_en\\tingredients_text\\tallergens\\tallergens_en\\ttraces\\ttraces_tags\\ttraces_en\\tserving_size\\tno_nutriments\\tadditives_n\\tadditives\\tadditives_tags\\tadditives_en\\tingredients_from_palm_oil_n\\tingredients_from_palm_oil\\tingredients_from_palm_oil_tags\\tingredients_that_may_be_from_palm_oil_n\\tingredients_that_may_be_from_palm_oil\\tingredients_that_may_be_from_palm_oil_tags\\tnutrition_grade_uk\\tnutrition_grade_fr\\tpnns_groups_1\\tpnns_groups_2\\tstates\\tstates_tags\\tstates_en\\tmain_category\\tmain_category_en\\timage_url\\timage_small_url\\tenergy_100g\\tenergy-from-fat_100g\\tfat_100g\\tsaturated-fat_100g\\t-butyric-acid_100g\\t-caproic-acid_100g\\t-caprylic-acid_100g\\t-capric-acid_100g\\t-lauric-acid_100g\\t-myristic-acid_100g\\t-palmitic-acid_100g\\t-stearic-acid_100g\\t-arachidic-acid_100g\\t-behenic-acid_100g\\t-lignoceric-acid_100g\\t-cerotic-acid_100g\\t-montanic-acid_100g\\t-melissic-acid_100g\\tmonounsaturated-fat_100g\\tpolyunsaturated-fat_100g\\tomega-3-fat_100g\\t-alpha-linolenic-acid_100g\\t-eicosapentaenoic-acid_100g\\t-docosahexaenoic-acid_100g\\tomega-6-fat_100g\\t-linoleic-acid_100g\\t-arachidonic-acid_100g\\t-gamma-linolenic-acid_100g\\t-dihomo-gamma-linolenic-acid_100g\\tomega-9-fat_100g\\t-oleic-acid_100g\\t-elaidic-acid_100g\\t-gondoic-acid_100g\\t-mead-acid_100g\\t-erucic-acid_100g\\t-nervonic-acid_100g\\ttrans-fat_100g\\tcholesterol_100g\\tcarbohydrates_100g\\tsugars_100g\\t-sucrose_100g\\t-glucose_100g\\t-fructose_100g\\t-lactose_100g\\t-maltose_100g\\t-maltodextrins_100g\\tstarch_100g\\tpolyols_100g\\tfiber_100g\\tproteins_100g\\tcasein_100g\\tserum-proteins_100g\\tnucleotides_100g\\tsalt_100g\\tsodium_100g\\talcohol_100g\\tvitamin-a_100g\\tbeta-carotene_100g\\tvitamin-d_100g\\tvitamin-e_100g\\tvitamin-k_100g\\tvitamin-c_100g\\tvitamin-b1_100g\\tvitamin-b2_100g\\tvitamin-pp_100g\\tvitamin-b6_100g\\tvitamin-b9_100g\\tfolates_100g\\tvitamin-b12_100g\\tbiotin_100g\\tpantothenic-acid_100g\\tsilica_100g\\tbicarbonate_100g\\tpotassium_100g\\tchloride_100g\\tcalcium_100g\\tphosphorus_100g\\tiron_100g\\tmagnesium_100g\\tzinc_100g\\tcopper_100g\\tmanganese_100g\\tfluoride_100g\\tselenium_100g\\tchromium_100g\\tmolybdenum_100g\\tiodine_100g\\tcaffeine_100g\\ttaurine_100g\\tph_100g\\tfruits-vegetables-nuts_100g\\tcollagen-meat-protein-ratio_100g\\tcocoa_100g\\tchlorophyl_100g\\tcarbon-footprint_100g\\tnutrition-score-fr_100g\\tnutrition-score-uk_100g\\tglycemic-index_100g\\twater-hardness_100g\\n', \"0000000003087\\thttp://world-en.openfoodfacts.org/product/0000000003087/farine-de-ble-noir-ferme-t-y-r-nao\\topenfoodfacts-contributors\\t1474103866\\t2016-09-17T09:17:46Z\\t1474103893\\t2016-09-17T09:18:13Z\\tFarine de blÃ© noir\\t\\t1kg\\t\\t\\tFerme t'y R'nao\\tferme-t-y-r-nao\\t\\t\\t\\t\\t\\t\\t\\t\\t\\t\\t\\t\\t\\t\\t\\t\\t\\ten:FR\\ten:france\\tFrance\\t\\t\\t\\t\\t\\t\\t\\t\\t\\t\\t\\t\\t\\t\\t\\t\\t\\t\\t\\t\\t\\t\\ten:to-be-completed, en:nutrition-facts-to-be-completed, en:ingredients-to-be-completed, en:expiration-date-to-be-completed, en:characteristics-to-be-completed, en:categories-to-be-completed, en:brands-completed, en:packaging-to-be-completed, en:quantity-completed, en:product-name-completed, en:photos-to-be-validated, en:photos-uploaded\\ten:to-be-completed,en:nutrition-facts-to-be-completed,en:ingredients-to-be-completed,en:expiration-date-to-be-completed,en:characteristics-to-be-completed,en:categories-to-be-completed,en:brands-completed,en:packaging-to-be-completed,en:quantity-completed,en:product-name-completed,en:photos-to-be-validated,en:photos-uploaded\\tTo be completed,Nutrition facts to be completed,Ingredients to be completed,Expiration date to be completed,Characteristics to be completed,Categories to be completed,Brands completed,Packaging to be completed,Quantity completed,Product name completed,Photos to be validated,Photos uploaded\\t\\t\\t\\t\\t\\t\\t\\t\\t\\t\\t\\t\\t\\t\\t\\t\\t\\t\\t\\t\\t\\t\\t\\t\\t\\t\\t\\t\\t\\t\\t\\t\\t\\t\\t\\t\\t\\t\\t\\t\\t\\t\\t\\t\\t\\t\\t\\t\\t\\t\\t\\t\\t\\t\\t\\t\\t\\t\\t\\t\\t\\t\\t\\t\\t\\t\\t\\t\\t\\t\\t\\t\\t\\t\\t\\t\\t\\t\\t\\t\\t\\t\\t\\t\\t\\t\\t\\t\\t\\t\\t\\t\\t\\t\\t\\t\\t\\t\\t\\t\\t\\t\\t\\n\", '0000000004530\\thttp://world-en.openfoodfacts.org/product/0000000004530/banana-chips-sweetened-whole\\tusda-ndb-import\\t1489069957\\t2017-03-09T14:32:37Z\\t1489069957\\t2017-03-09T14:32:37Z\\tBanana Chips Sweetened (Whole)\\t\\t\\t\\t\\t\\t\\t\\t\\t\\t\\t\\t\\t\\t\\t\\t\\t\\t\\t\\t\\t\\t\\t\\tUS\\ten:united-states\\tUnited States\\tBananas, vegetable oil (coconut oil, corn oil and/or palm oil) sugar, natural banana flavor.\\t\\t\\t\\t\\t\\t28 g (1 ONZ)\\t\\t0\\t [ bananas -> en:bananas  ]  [ vegetable-oil -> en:vegetable-oil  ]  [ oil -> en:oil  ]  [ coconut-oil -> en:coconut-oil  ]  [ oil -> en:oil  ]  [ corn-oil-and-or-palm-oil-sugar -> en:corn-oil-and-or-palm-oil-sugar  ]  [ oil-and-or-palm-oil-sugar -> en:oil-and-or-palm-oil-sugar  ]  [ and-or-palm-oil-sugar -> en:and-or-palm-oil-sugar  ]  [ or-palm-oil-sugar -> en:or-palm-oil-sugar  ]  [ palm-oil-sugar -> en:palm-oil-sugar  ]  [ oil-sugar -> en:oil-sugar  ]  [ sugar -> en:sugar  ]  [ natural-banana-flavor -> en:natural-banana-flavor  ]  [ banana-flavor -> en:banana-flavor  ]  [ flavor -> en:flavor  ] \\t\\t\\t0\\t\\t\\t0\\t\\t\\t\\td\\t\\t\\ten:to-be-completed, en:nutrition-facts-completed, en:ingredients-completed, en:expiration-date-to-be-completed, en:packaging-code-to-be-completed, en:characteristics-to-be-completed, en:categories-to-be-completed, en:brands-to-be-completed, en:packaging-to-be-completed, en:quantity-to-be-completed, en:product-name-completed, en:photos-to-be-uploaded\\ten:to-be-completed,en:nutrition-facts-completed,en:ingredients-completed,en:expiration-date-to-be-completed,en:packaging-code-to-be-completed,en:characteristics-to-be-completed,en:categories-to-be-completed,en:brands-to-be-completed,en:packaging-to-be-completed,en:quantity-to-be-completed,en:product-name-completed,en:photos-to-be-uploaded\\tTo be completed,Nutrition facts completed,Ingredients completed,Expiration date to be completed,Packaging-code-to-be-completed,Characteristics to be completed,Categories to be completed,Brands to be completed,Packaging to be completed,Quantity to be completed,Product name completed,Photos to be uploaded\\t\\t\\t\\t\\t2243\\t\\t28.57\\t28.57\\t\\t\\t\\t\\t\\t\\t\\t\\t\\t\\t\\t\\t\\t\\t\\t\\t\\t\\t\\t\\t\\t\\t\\t\\t\\t\\t\\t\\t\\t\\t\\t\\t0\\t0.018\\t64.29\\t14.29\\t\\t\\t\\t\\t\\t\\t\\t\\t3.6\\t3.57\\t\\t\\t\\t0\\t0\\t\\t0\\t\\t\\t\\t\\t0.0214\\t\\t\\t\\t\\t\\t\\t\\t\\t\\t\\t\\t\\t\\t0\\t\\t0.00129\\t\\t\\t\\t\\t\\t\\t\\t\\t\\t\\t\\t\\t\\t\\t\\t\\t\\t14\\t14\\t\\t\\n', '0000000004559\\thttp://world-en.openfoodfacts.org/product/0000000004559/peanuts-torn-glasser\\tusda-ndb-import\\t1489069957\\t2017-03-09T14:32:37Z\\t1489069957\\t2017-03-09T14:32:37Z\\tPeanuts\\t\\t\\t\\t\\tTorn & Glasser\\ttorn-glasser\\t\\t\\t\\t\\t\\t\\t\\t\\t\\t\\t\\t\\t\\t\\t\\t\\t\\tUS\\ten:united-states\\tUnited States\\tPeanuts, wheat flour, sugar, rice flour, tapioca starch, salt, leavening (ammonium bicarbonate, baking soda), soy sauce (water, soybeans, wheat, salt), potato starch.\\t\\t\\t\\t\\t\\t28 g (0.25 cup)\\t\\t0\\t [ peanuts -> en:peanuts  ]  [ wheat-flour -> en:wheat-flour  ]  [ flour -> en:flour  ]  [ sugar -> en:sugar  ]  [ rice-flour -> en:rice-flour  ]  [ flour -> en:flour  ]  [ tapioca-starch -> en:tapioca-starch  ]  [ starch -> en:starch  ]  [ salt -> en:salt  ]  [ leavening -> en:leavening  ]  [ ammonium-bicarbonate -> en:ammonium-bicarbonate  ]  [ bicarbonate -> en:bicarbonate  ]  [ baking-soda -> en:baking-soda  ]  [ soda -> en:soda  ]  [ soy-sauce -> en:soy-sauce  ]  [ sauce -> en:sauce  ]  [ water -> en:water  ]  [ soybeans -> en:soybeans  ]  [ wheat -> en:wheat  ]  [ salt -> en:salt  ]  [ potato-starch -> en:potato-starch  ]  [ starch -> en:starch  ] \\t\\t\\t0\\t\\t\\t0\\t\\t\\t\\tb\\t\\t\\ten:to-be-completed, en:nutrition-facts-completed, en:ingredients-completed, en:expiration-date-to-be-completed, en:packaging-code-to-be-completed, en:characteristics-to-be-completed, en:categories-to-be-completed, en:brands-completed, en:packaging-to-be-completed, en:quantity-to-be-completed, en:product-name-completed, en:photos-to-be-uploaded\\ten:to-be-completed,en:nutrition-facts-completed,en:ingredients-completed,en:expiration-date-to-be-completed,en:packaging-code-to-be-completed,en:characteristics-to-be-completed,en:categories-to-be-completed,en:brands-completed,en:packaging-to-be-completed,en:quantity-to-be-completed,en:product-name-completed,en:photos-to-be-uploaded\\tTo be completed,Nutrition facts completed,Ingredients completed,Expiration date to be completed,Packaging-code-to-be-completed,Characteristics to be completed,Categories to be completed,Brands completed,Packaging to be completed,Quantity to be completed,Product name completed,Photos to be uploaded\\t\\t\\t\\t\\t1941\\t\\t17.86\\t0\\t\\t\\t\\t\\t\\t\\t\\t\\t\\t\\t\\t\\t\\t\\t\\t\\t\\t\\t\\t\\t\\t\\t\\t\\t\\t\\t\\t\\t\\t\\t\\t\\t0\\t0\\t60.71\\t17.86\\t\\t\\t\\t\\t\\t\\t\\t\\t7.1\\t17.86\\t\\t\\t\\t0.635\\t0.25\\t\\t0\\t\\t\\t\\t\\t0\\t\\t\\t\\t\\t\\t\\t\\t\\t\\t\\t\\t\\t\\t0.071\\t\\t0.00129\\t\\t\\t\\t\\t\\t\\t\\t\\t\\t\\t\\t\\t\\t\\t\\t\\t\\t0\\t0\\t\\t\\n', '0000000016087\\thttp://world-en.openfoodfacts.org/product/0000000016087/organic-salted-nut-mix-grizzlies\\tusda-ndb-import\\t1489055731\\t2017-03-09T10:35:31Z\\t1489055731\\t2017-03-09T10:35:31Z\\tOrganic Salted Nut Mix\\t\\t\\t\\t\\tGrizzlies\\tgrizzlies\\t\\t\\t\\t\\t\\t\\t\\t\\t\\t\\t\\t\\t\\t\\t\\t\\t\\tUS\\ten:united-states\\tUnited States\\tOrganic hazelnuts, organic cashews, organic walnuts almonds, organic sunflower oil, sea salt.\\t\\t\\t\\t\\t\\t28 g (0.25 cup)\\t\\t0\\t [ organic-hazelnuts -> en:organic-hazelnuts  ]  [ hazelnuts -> en:hazelnuts  ]  [ organic-cashews -> en:organic-cashews  ]  [ cashews -> en:cashews  ]  [ organic-walnuts-almonds -> en:organic-walnuts-almonds  ]  [ walnuts-almonds -> en:walnuts-almonds  ]  [ almonds -> en:almonds  ]  [ organic-sunflower-oil -> en:organic-sunflower-oil  ]  [ sunflower-oil -> en:sunflower-oil  ]  [ oil -> en:oil  ]  [ sea-salt -> en:sea-salt  ]  [ salt -> en:salt  ] \\t\\t\\t0\\t\\t\\t0\\t\\t\\t\\td\\t\\t\\ten:to-be-completed, en:nutrition-facts-completed, en:ingredients-completed, en:expiration-date-to-be-completed, en:packaging-code-to-be-completed, en:characteristics-to-be-completed, en:categories-to-be-completed, en:brands-completed, en:packaging-to-be-completed, en:quantity-to-be-completed, en:product-name-completed, en:photos-to-be-uploaded\\ten:to-be-completed,en:nutrition-facts-completed,en:ingredients-completed,en:expiration-date-to-be-completed,en:packaging-code-to-be-completed,en:characteristics-to-be-completed,en:categories-to-be-completed,en:brands-completed,en:packaging-to-be-completed,en:quantity-to-be-completed,en:product-name-completed,en:photos-to-be-uploaded\\tTo be completed,Nutrition facts completed,Ingredients completed,Expiration date to be completed,Packaging-code-to-be-completed,Characteristics to be completed,Categories to be completed,Brands completed,Packaging to be completed,Quantity to be completed,Product name completed,Photos to be uploaded\\t\\t\\t\\t\\t2540\\t\\t57.14\\t5.36\\t\\t\\t\\t\\t\\t\\t\\t\\t\\t\\t\\t\\t\\t\\t\\t\\t\\t\\t\\t\\t\\t\\t\\t\\t\\t\\t\\t\\t\\t\\t\\t\\t\\t\\t17.86\\t3.57\\t\\t\\t\\t\\t\\t\\t\\t\\t7.1\\t17.86\\t\\t\\t\\t1.22428\\t0.482\\t\\t\\t\\t\\t\\t\\t\\t\\t\\t\\t\\t\\t\\t\\t\\t\\t\\t\\t\\t\\t0.143\\t\\t0.00514\\t\\t\\t\\t\\t\\t\\t\\t\\t\\t\\t\\t\\t\\t\\t\\t\\t\\t12\\t12\\t\\t\\n', \"0000000016094\\thttp://world-en.openfoodfacts.org/product/0000000016094/organic-polenta-bob-s-red-mill\\tusda-ndb-import\\t1489055653\\t2017-03-09T10:34:13Z\\t1489055653\\t2017-03-09T10:34:13Z\\tOrganic Polenta\\t\\t\\t\\t\\tBob's Red Mill\\tbob-s-red-mill\\t\\t\\t\\t\\t\\t\\t\\t\\t\\t\\t\\t\\t\\t\\t\\t\\t\\tUS\\ten:united-states\\tUnited States\\tOrganic polenta\\t\\t\\t\\t\\t\\t35 g (0.25 cup)\\t\\t0\\t [ organic-polenta -> en:organic-polenta  ]  [ polenta -> en:polenta  ] \\t\\t\\t0\\t\\t\\t0\\t\\t\\t\\t\\t\\t\\ten:to-be-completed, en:nutrition-facts-completed, en:ingredients-completed, en:expiration-date-to-be-completed, en:packaging-code-to-be-completed, en:characteristics-to-be-completed, en:categories-to-be-completed, en:brands-completed, en:packaging-to-be-completed, en:quantity-to-be-completed, en:product-name-completed, en:photos-to-be-uploaded\\ten:to-be-completed,en:nutrition-facts-completed,en:ingredients-completed,en:expiration-date-to-be-completed,en:packaging-code-to-be-completed,en:characteristics-to-be-completed,en:categories-to-be-completed,en:brands-completed,en:packaging-to-be-completed,en:quantity-to-be-completed,en:product-name-completed,en:photos-to-be-uploaded\\tTo be completed,Nutrition facts completed,Ingredients completed,Expiration date to be completed,Packaging-code-to-be-completed,Characteristics to be completed,Categories to be completed,Brands completed,Packaging to be completed,Quantity to be completed,Product name completed,Photos to be uploaded\\t\\t\\t\\t\\t1552\\t\\t1.43\\t\\t\\t\\t\\t\\t\\t\\t\\t\\t\\t\\t\\t\\t\\t\\t\\t\\t\\t\\t\\t\\t\\t\\t\\t\\t\\t\\t\\t\\t\\t\\t\\t\\t\\t\\t77.14\\t\\t\\t\\t\\t\\t\\t\\t\\t\\t5.7\\t8.57\\t\\t\\t\\t\\t\\t\\t\\t\\t\\t\\t\\t\\t\\t\\t\\t\\t\\t\\t\\t\\t\\t\\t\\t\\t\\t\\t\\t\\t\\t\\t\\t\\t\\t\\t\\t\\t\\t\\t\\t\\t\\t\\t\\t\\t\\t\\t\\t\\t\\n\", '0000000016100\\thttp://world-en.openfoodfacts.org/product/0000000016100/breadshop-honey-gone-nuts-granola-unfi\\tusda-ndb-import\\t1489055651\\t2017-03-09T10:34:11Z\\t1489055651\\t2017-03-09T10:34:11Z\\tBreadshop Honey Gone Nuts Granola\\t\\t\\t\\t\\tUnfi\\tunfi\\t\\t\\t\\t\\t\\t\\t\\t\\t\\t\\t\\t\\t\\t\\t\\t\\t\\tUS\\ten:united-states\\tUnited States\\tRolled oats, grape concentrate, expeller pressed canola oil, sunflower seeds, almonds, walnuts oat bran, sesame seeds, cashews, natural vitamin e.\\t\\t\\t\\t\\t\\t52 g (0.5 cup)\\t\\t0\\t [ rolled-oats -> en:rolled-oats  ]  [ oats -> en:oats  ]  [ grape-concentrate -> en:grape-concentrate  ]  [ concentrate -> en:concentrate  ]  [ expeller-pressed-canola-oil -> en:expeller-pressed-canola-oil  ]  [ pressed-canola-oil -> en:pressed-canola-oil  ]  [ canola-oil -> en:canola-oil  ]  [ oil -> en:oil  ]  [ sunflower-seeds -> en:sunflower-seeds  ]  [ seeds -> en:seeds  ]  [ almonds -> en:almonds  ]  [ walnuts-oat-bran -> en:walnuts-oat-bran  ]  [ oat-bran -> en:oat-bran  ]  [ bran -> en:bran  ]  [ sesame-seeds -> en:sesame-seeds  ]  [ seeds -> en:seeds  ]  [ cashews -> en:cashews  ]  [ natural-vitamin-e -> en:natural-vitamin-e  ]  [ vitamin-e -> en:vitamin-e  ]  [ e -> en:e  ] \\t\\t\\t0\\t\\t\\t0\\t\\t\\t\\t\\t\\t\\ten:to-be-completed, en:nutrition-facts-completed, en:ingredients-completed, en:expiration-date-to-be-completed, en:packaging-code-to-be-completed, en:characteristics-to-be-completed, en:categories-to-be-completed, en:brands-completed, en:packaging-to-be-completed, en:quantity-to-be-completed, en:product-name-completed, en:photos-to-be-uploaded\\ten:to-be-completed,en:nutrition-facts-completed,en:ingredients-completed,en:expiration-date-to-be-completed,en:packaging-code-to-be-completed,en:characteristics-to-be-completed,en:categories-to-be-completed,en:brands-completed,en:packaging-to-be-completed,en:quantity-to-be-completed,en:product-name-completed,en:photos-to-be-uploaded\\tTo be completed,Nutrition facts completed,Ingredients completed,Expiration date to be completed,Packaging-code-to-be-completed,Characteristics to be completed,Categories to be completed,Brands completed,Packaging to be completed,Quantity to be completed,Product name completed,Photos to be uploaded\\t\\t\\t\\t\\t1933\\t\\t18.27\\t1.92\\t\\t\\t\\t\\t\\t\\t\\t\\t\\t\\t\\t\\t\\t\\t\\t\\t\\t\\t\\t\\t\\t\\t\\t\\t\\t\\t\\t\\t\\t\\t\\t\\t\\t\\t63.46\\t11.54\\t\\t\\t\\t\\t\\t\\t\\t\\t7.7\\t13.46\\t\\t\\t\\t\\t\\t\\t\\t\\t\\t\\t\\t\\t\\t\\t\\t\\t\\t\\t\\t\\t\\t\\t\\t\\t\\t0.038\\t\\t0.00346\\t\\t\\t\\t\\t\\t\\t\\t\\t\\t\\t\\t\\t\\t\\t\\t\\t\\t\\t\\t\\t\\n', '0000000016117\\thttp://world-en.openfoodfacts.org/product/0000000016117/organic-long-grain-white-rice-lundberg\\tusda-ndb-import\\t1489055730\\t2017-03-09T10:35:30Z\\t1489055730\\t2017-03-09T10:35:30Z\\tOrganic Long Grain White Rice\\t\\t\\t\\t\\tLundberg\\tlundberg\\t\\t\\t\\t\\t\\t\\t\\t\\t\\t\\t\\t\\t\\t\\t\\t\\t\\tUS\\ten:united-states\\tUnited States\\tOrganic long grain white rice\\t\\t\\t\\t\\t\\t45 g (0.25 cup)\\t\\t0\\t [ organic-long-grain-white-rice -> en:organic-long-grain-white-rice  ]  [ long-grain-white-rice -> en:long-grain-white-rice  ]  [ grain-white-rice -> en:grain-white-rice  ]  [ white-rice -> en:white-rice  ]  [ rice -> en:rice  ] \\t\\t\\t0\\t\\t\\t0\\t\\t\\t\\t\\t\\t\\ten:to-be-completed, en:nutrition-facts-completed, en:ingredients-completed, en:expiration-date-to-be-completed, en:packaging-code-to-be-completed, en:characteristics-to-be-completed, en:categories-to-be-completed, en:brands-completed, en:packaging-to-be-completed, en:quantity-to-be-completed, en:product-name-completed, en:photos-to-be-uploaded\\ten:to-be-completed,en:nutrition-facts-completed,en:ingredients-completed,en:expiration-date-to-be-completed,en:packaging-code-to-be-completed,en:characteristics-to-be-completed,en:categories-to-be-completed,en:brands-completed,en:packaging-to-be-completed,en:quantity-to-be-completed,en:product-name-completed,en:photos-to-be-uploaded\\tTo be completed,Nutrition facts completed,Ingredients completed,Expiration date to be completed,Packaging-code-to-be-completed,Characteristics to be completed,Categories to be completed,Brands completed,Packaging to be completed,Quantity to be completed,Product name completed,Photos to be uploaded\\t\\t\\t\\t\\t1490\\t\\t\\t\\t\\t\\t\\t\\t\\t\\t\\t\\t\\t\\t\\t\\t\\t\\t\\t\\t\\t\\t\\t\\t\\t\\t\\t\\t\\t\\t\\t\\t\\t\\t\\t\\t\\t\\t80\\t\\t\\t\\t\\t\\t\\t\\t\\t\\t\\t8.89\\t\\t\\t\\t\\t\\t\\t\\t\\t\\t\\t\\t0.0027\\t\\t\\t\\t\\t\\t\\t\\t\\t\\t\\t\\t\\t\\t0.044\\t\\t\\t\\t\\t\\t\\t\\t\\t\\t\\t\\t\\t\\t\\t\\t\\t\\t\\t\\t\\t\\t\\t\\n', \"0000000016124\\thttp://world-en.openfoodfacts.org/product/0000000016124/organic-muesli-daddy-s-muesli\\tusda-ndb-import\\t1489055711\\t2017-03-09T10:35:11Z\\t1489055712\\t2017-03-09T10:35:12Z\\tOrganic Muesli\\t\\t\\t\\t\\tDaddy's Muesli\\tdaddy-s-muesli\\t\\t\\t\\t\\t\\t\\t\\t\\t\\t\\t\\t\\t\\t\\t\\t\\t\\tUS\\ten:united-states\\tUnited States\\tOrg oats, org hemp granola (org oats, evaporated cane juice, org expeller-pressed canola oil, crispy rice [org brown rice flour, org evaporated cane juice, org molasses, sea salt], org flax seeds, org oat solids, hemp seeds), org raisins, org dates, org almonds, org hazelnuts, org coconut, org sunflower seeds, org pumpkin seeds, org flax seeds, org corn flakes (org corn meal, org grape and/or pear juice concentrate, sea salt), org quinoa amaranth flakes (org corn meal, org yellow corn flour, org evaporated cane juice, org flax, org buckwheat flour, org quinoa, org amaranth, sea salt, tocopherols [natural vitamin e]).\\t\\t\\t\\t\\t\\t64 g (0.5 cup)\\t\\t1\\t [ org-oats -> en:org-oats  ]  [ oats -> en:oats  ]  [ org-hemp-granola -> en:org-hemp-granola  ]  [ hemp-granola -> en:hemp-granola  ]  [ granola -> en:granola  ]  [ org-oats -> en:org-oats  ]  [ oats -> en:oats  ]  [ evaporated-cane-juice -> en:evaporated-cane-juice  ]  [ cane-juice -> en:cane-juice  ]  [ juice -> en:juice  ]  [ org-expeller-pressed-canola-oil -> en:org-expeller-pressed-canola-oil  ]  [ expeller-pressed-canola-oil -> en:expeller-pressed-canola-oil  ]  [ pressed-canola-oil -> en:pressed-canola-oil  ]  [ canola-oil -> en:canola-oil  ]  [ oil -> en:oil  ]  [ crispy-rice -> en:crispy-rice  ]  [ rice -> en:rice  ]  [ org-brown-rice-flour -> en:org-brown-rice-flour  ]  [ brown-rice-flour -> en:brown-rice-flour  ]  [ rice-flour -> en:rice-flour  ]  [ flour -> en:flour  ]  [ org-evaporated-cane-juice -> en:org-evaporated-cane-juice  ]  [ evaporated-cane-juice -> en:evaporated-cane-juice  ]  [ cane-juice -> en:cane-juice  ]  [ juice -> en:juice  ]  [ org-molasses -> en:org-molasses  ]  [ molasses -> en:molasses  ]  [ sea-salt -> en:sea-salt  ]  [ salt -> en:salt  ]  [ org-flax-seeds -> en:org-flax-seeds  ]  [ flax-seeds -> en:flax-seeds  ]  [ seeds -> en:seeds  ]  [ org-oat-solids -> en:org-oat-solids  ]  [ oat-solids -> en:oat-solids  ]  [ solids -> en:solids  ]  [ hemp-seeds -> en:hemp-seeds  ]  [ seeds -> en:seeds  ]  [ org-raisins -> en:org-raisins  ]  [ raisins -> en:raisins  ]  [ org-dates -> en:org-dates  ]  [ dates -> en:dates  ]  [ org-almonds -> en:org-almonds  ]  [ almonds -> en:almonds  ]  [ org-hazelnuts -> en:org-hazelnuts  ]  [ hazelnuts -> en:hazelnuts  ]  [ org-coconut -> en:org-coconut  ]  [ coconut -> en:coconut  ]  [ org-sunflower-seeds -> en:org-sunflower-seeds  ]  [ sunflower-seeds -> en:sunflower-seeds  ]  [ seeds -> en:seeds  ]  [ org-pumpkin-seeds -> en:org-pumpkin-seeds  ]  [ pumpkin-seeds -> en:pumpkin-seeds  ]  [ seeds -> en:seeds  ]  [ org-flax-seeds -> en:org-flax-seeds  ]  [ flax-seeds -> en:flax-seeds  ]  [ seeds -> en:seeds  ]  [ org-corn-flakes -> en:org-corn-flakes  ]  [ corn-flakes -> en:corn-flakes  ]  [ flakes -> en:flakes  ]  [ org-corn-meal -> en:org-corn-meal  ]  [ corn-meal -> en:corn-meal  ]  [ meal -> en:meal  ]  [ org-grape-and-or-pear-juice-concentrate -> en:org-grape-and-or-pear-juice-concentrate  ]  [ grape-and-or-pear-juice-concentrate -> en:grape-and-or-pear-juice-concentrate  ]  [ and-or-pear-juice-concentrate -> en:and-or-pear-juice-concentrate  ]  [ or-pear-juice-concentrate -> en:or-pear-juice-concentrate  ]  [ pear-juice-concentrate -> en:pear-juice-concentrate  ]  [ juice-concentrate -> en:juice-concentrate  ]  [ concentrate -> en:concentrate  ]  [ sea-salt -> en:sea-salt  ]  [ salt -> en:salt  ]  [ org-quinoa-amaranth-flakes -> en:org-quinoa-amaranth-flakes  ]  [ quinoa-amaranth-flakes -> en:quinoa-amaranth-flakes  ]  [ amaranth-flakes -> en:amaranth-flakes  ]  [ flakes -> en:flakes  ]  [ org-corn-meal -> en:org-corn-meal  ]  [ corn-meal -> en:corn-meal  ]  [ meal -> en:meal  ]  [ org-yellow-corn-flour -> en:org-yellow-corn-flour  ]  [ yellow-corn-flour -> en:yellow-corn-flour  ]  [ corn-flour -> en:corn-flour  ]  [ flour -> en:flour  ]  [ org-evaporated-cane-juice -> en:org-evaporated-cane-juice  ]  [ evaporated-cane-juice -> en:evaporated-cane-juice  ]  [ cane-juice -> en:cane-juice  ]  [ juice -> en:juice  ]  [ org-flax -> en:org-flax  ]  [ flax -> en:flax  ]  [ org-buckwheat-flour -> en:org-buckwheat-flour  ]  [ buckwheat-flour -> en:buckwheat-flour  ]  [ flour -> en:flour  ]  [ org-quinoa -> en:org-quinoa  ]  [ quinoa -> en:quinoa  ]  [ org-amaranth -> en:org-amaranth  ]  [ amaranth -> en:e123  -> exists  -- mandatory_additive_class: colour (current: ingredient)  ]  [ amaranth -> en:e123  -- already seen  ]  [ sea-salt -> en:sea-salt  ]  [ salt -> en:salt  ]  [ tocopherols -> en:e307c  -> exists  -- ok  ]  [ natural-vitamin-e -> en:natural-vitamin-e  ]  [ vitamin-e -> en:vitamin-e  ]  [ e -> en:e  ] \\ten:e307c\\tE307c - Tocopherol\\t0\\t\\t\\t0\\t\\t\\t\\tc\\t\\t\\ten:to-be-completed, en:nutrition-facts-completed, en:ingredients-completed, en:expiration-date-to-be-completed, en:packaging-code-to-be-completed, en:characteristics-to-be-completed, en:categories-to-be-completed, en:brands-completed, en:packaging-to-be-completed, en:quantity-to-be-completed, en:product-name-completed, en:photos-to-be-uploaded\\ten:to-be-completed,en:nutrition-facts-completed,en:ingredients-completed,en:expiration-date-to-be-completed,en:packaging-code-to-be-completed,en:characteristics-to-be-completed,en:categories-to-be-completed,en:brands-completed,en:packaging-to-be-completed,en:quantity-to-be-completed,en:product-name-completed,en:photos-to-be-uploaded\\tTo be completed,Nutrition facts completed,Ingredients completed,Expiration date to be completed,Packaging-code-to-be-completed,Characteristics to be completed,Categories to be completed,Brands completed,Packaging to be completed,Quantity to be completed,Product name completed,Photos to be uploaded\\t\\t\\t\\t\\t1833\\t\\t18.75\\t4.69\\t\\t\\t\\t\\t\\t\\t\\t\\t\\t\\t\\t\\t\\t\\t\\t\\t\\t\\t\\t\\t\\t\\t\\t\\t\\t\\t\\t\\t\\t\\t\\t\\t\\t\\t57.81\\t15.62\\t\\t\\t\\t\\t\\t\\t\\t\\t9.4\\t14.06\\t\\t\\t\\t0.1397\\t0.055\\t\\t\\t\\t\\t\\t\\t\\t\\t\\t\\t\\t\\t\\t\\t\\t\\t\\t\\t\\t\\t0.062\\t\\t0.00422\\t\\t\\t\\t\\t\\t\\t\\t\\t\\t\\t\\t\\t\\t\\t\\t\\t\\t7\\t7\\t\\t\\n\", '0000000016193\\thttp://world-en.openfoodfacts.org/product/0000000016193/organic-dark-chocolate-minis-equal-exchange\\tusda-ndb-import\\t1489055651\\t2017-03-09T10:34:11Z\\t1489055651\\t2017-03-09T10:34:11Z\\tOrganic Dark Chocolate Minis\\t\\t\\t\\t\\tEqual Exchange\\tequal-exchange\\t\\t\\t\\t\\t\\t\\t\\t\\t\\t\\t\\t\\t\\t\\t\\t\\t\\tUS\\ten:united-states\\tUnited States\\tOrganic chocolate liquor, organic raw cane sugar, organic cocoa butter, organic unrefined whole cane sugar, organic ground vanilla beans.\\t\\t\\t\\t\\t\\t40 g (40 g)\\t\\t0\\t [ organic-chocolate-liquor -> en:organic-chocolate-liquor  ]  [ chocolate-liquor -> en:chocolate-liquor  ]  [ liquor -> en:liquor  ]  [ organic-raw-cane-sugar -> en:organic-raw-cane-sugar  ]  [ raw-cane-sugar -> en:raw-cane-sugar  ]  [ cane-sugar -> en:cane-sugar  ]  [ sugar -> en:sugar  ]  [ organic-cocoa-butter -> en:organic-cocoa-butter  ]  [ cocoa-butter -> en:cocoa-butter  ]  [ butter -> en:butter  ]  [ organic-unrefined-whole-cane-sugar -> en:organic-unrefined-whole-cane-sugar  ]  [ unrefined-whole-cane-sugar -> en:unrefined-whole-cane-sugar  ]  [ whole-cane-sugar -> en:whole-cane-sugar  ]  [ cane-sugar -> en:cane-sugar  ]  [ sugar -> en:sugar  ]  [ organic-ground-vanilla-beans -> en:organic-ground-vanilla-beans  ]  [ ground-vanilla-beans -> en:ground-vanilla-beans  ]  [ vanilla-beans -> en:vanilla-beans  ]  [ beans -> en:beans  ] \\t\\t\\t0\\t\\t\\t0\\t\\t\\t\\t\\t\\t\\ten:to-be-completed, en:nutrition-facts-completed, en:ingredients-completed, en:expiration-date-to-be-completed, en:packaging-code-to-be-completed, en:characteristics-to-be-completed, en:categories-to-be-completed, en:brands-completed, en:packaging-to-be-completed, en:quantity-to-be-completed, en:product-name-completed, en:photos-to-be-uploaded\\ten:to-be-completed,en:nutrition-facts-completed,en:ingredients-completed,en:expiration-date-to-be-completed,en:packaging-code-to-be-completed,en:characteristics-to-be-completed,en:categories-to-be-completed,en:brands-completed,en:packaging-to-be-completed,en:quantity-to-be-completed,en:product-name-completed,en:photos-to-be-uploaded\\tTo be completed,Nutrition facts completed,Ingredients completed,Expiration date to be completed,Packaging-code-to-be-completed,Characteristics to be completed,Categories to be completed,Brands completed,Packaging to be completed,Quantity to be completed,Product name completed,Photos to be uploaded\\t\\t\\t\\t\\t2406\\t\\t37.5\\t22.5\\t\\t\\t\\t\\t\\t\\t\\t\\t\\t\\t\\t\\t\\t\\t\\t\\t\\t\\t\\t\\t\\t\\t\\t\\t\\t\\t\\t\\t\\t\\t\\t\\t\\t\\t55\\t42.5\\t\\t\\t\\t\\t\\t\\t\\t\\t7.5\\t5\\t\\t\\t\\t\\t\\t\\t\\t\\t\\t\\t\\t\\t\\t\\t\\t\\t\\t\\t\\t\\t\\t\\t\\t\\t\\t0.05\\t\\t0.01125\\t\\t\\t\\t\\t\\t\\t\\t\\t\\t\\t\\t\\t\\t\\t\\t\\t\\t\\t\\t\\t\\n']\n"
     ]
    }
   ],
   "source": [
    "#with open(\"../../../en.openfoodfacts.org.products.tsv\") as myfile:\n",
    "#    head = [next(myfile) for x in range(10)]\n",
    "#print(head)\n"
   ]
  },
  {
   "cell_type": "markdown",
   "metadata": {},
   "source": [
    "### Step 4. See the first 5 entries"
   ]
  },
  {
   "cell_type": "code",
   "execution_count": null,
   "metadata": {
    "collapsed": true
   },
   "outputs": [],
   "source": []
  },
  {
   "cell_type": "markdown",
   "metadata": {},
   "source": [
    "### Step 5. What is the number of observations in the dataset?"
   ]
  },
  {
   "cell_type": "code",
   "execution_count": null,
   "metadata": {
    "collapsed": true
   },
   "outputs": [],
   "source": []
  },
  {
   "cell_type": "markdown",
   "metadata": {},
   "source": [
    "### Step 6. What is the number of columns in the dataset?"
   ]
  },
  {
   "cell_type": "code",
   "execution_count": null,
   "metadata": {
    "collapsed": true
   },
   "outputs": [],
   "source": []
  },
  {
   "cell_type": "markdown",
   "metadata": {},
   "source": [
    "### Step 7. Print the name of all the columns."
   ]
  },
  {
   "cell_type": "code",
   "execution_count": null,
   "metadata": {
    "collapsed": true
   },
   "outputs": [],
   "source": []
  },
  {
   "cell_type": "markdown",
   "metadata": {},
   "source": [
    "### Step 8. What is the name of 105th column?"
   ]
  },
  {
   "cell_type": "code",
   "execution_count": null,
   "metadata": {
    "collapsed": true
   },
   "outputs": [],
   "source": []
  },
  {
   "cell_type": "markdown",
   "metadata": {},
   "source": [
    "### Step 9. What is the type of the observations of the 105th column?"
   ]
  },
  {
   "cell_type": "code",
   "execution_count": null,
   "metadata": {
    "collapsed": true
   },
   "outputs": [],
   "source": []
  },
  {
   "cell_type": "markdown",
   "metadata": {},
   "source": [
    "### Step 10. How is the dataset indexed?"
   ]
  },
  {
   "cell_type": "code",
   "execution_count": null,
   "metadata": {
    "collapsed": true
   },
   "outputs": [],
   "source": []
  },
  {
   "cell_type": "markdown",
   "metadata": {},
   "source": [
    "### Step 11. What is the product name of the 19th observation?"
   ]
  },
  {
   "cell_type": "code",
   "execution_count": null,
   "metadata": {
    "collapsed": true
   },
   "outputs": [],
   "source": []
  }
 ],
 "metadata": {
  "kernelspec": {
   "display_name": "Python 3",
   "language": "python",
   "name": "python3"
  },
  "language_info": {
   "codemirror_mode": {
    "name": "ipython",
    "version": 3
   },
   "file_extension": ".py",
   "mimetype": "text/x-python",
   "name": "python",
   "nbconvert_exporter": "python",
   "pygments_lexer": "ipython3",
   "version": "3.6.1"
  }
 },
 "nbformat": 4,
 "nbformat_minor": 1
}
